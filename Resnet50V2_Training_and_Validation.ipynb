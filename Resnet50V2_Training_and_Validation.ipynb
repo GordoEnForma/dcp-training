{
 "cells": [
  {
   "cell_type": "code",
   "execution_count": 1,
   "metadata": {
    "_cell_guid": "79c7e3d0-c299-4dcb-8224-4455121ee9b0",
    "_uuid": "d629ff2d2480ee46fbb7e2d37f6b5fab8052498a"
   },
   "outputs": [
    {
     "name": "stderr",
     "output_type": "stream",
     "text": [
      "c:\\Users\\gem_9\\miniconda3\\envs\\dcp\\lib\\site-packages\\tensorflow_addons\\utils\\tfa_eol_msg.py:23: UserWarning: \n",
      "\n",
      "TensorFlow Addons (TFA) has ended development and introduction of new features.\n",
      "TFA has entered a minimal maintenance and release mode until a planned end of life in May 2024.\n",
      "Please modify downstream libraries to take dependencies from other repositories in our TensorFlow community (e.g. Keras, Keras-CV, and Keras-NLP). \n",
      "\n",
      "For more information see: https://github.com/tensorflow/addons/issues/2807 \n",
      "\n",
      "  warnings.warn(\n"
     ]
    }
   ],
   "source": [
    "import pandas as pd\n",
    "import numpy as np\n",
    "import tensorflow as tf\n",
    "import tensorflow_addons as tfa\n",
    "from keras.models import Sequential\n",
    "from keras import optimizers\n",
    "from keras.layers import Dense, Conv2D, Dropout, Flatten, MaxPooling2D\n",
    "from keras.applications import ResNet50V2"
   ]
  },
  {
   "cell_type": "code",
   "execution_count": 2,
   "metadata": {},
   "outputs": [],
   "source": [
    "base_model= ResNet50V2(include_top=False, weights=\"imagenet\", input_shape=(256,256,3))"
   ]
  },
  {
   "cell_type": "code",
   "execution_count": 3,
   "metadata": {},
   "outputs": [],
   "source": [
    "base_model.trainable = False\n",
    "# for layer in base_model.layers:\n",
    "#     layer.trainable = False"
   ]
  },
  {
   "cell_type": "code",
   "execution_count": 4,
   "metadata": {},
   "outputs": [],
   "source": [
    "\n",
    "model= Sequential()\n",
    "model.add(base_model)\n",
    "model.add(Conv2D(64, (3, 3), activation = 'relu'))\n",
    "model.add(MaxPooling2D(pool_size = (2, 2)))\n",
    "model.add(Dropout(0.40))\n",
    "model.add(Flatten())\n",
    "model.add(Dense(128,activation='relu'))\n",
    "model.add(Dropout(0.4))\n",
    "model.add(Dense(7, activation='softmax'))\n"
   ]
  },
  {
   "cell_type": "code",
   "execution_count": 5,
   "metadata": {},
   "outputs": [],
   "source": [
    "data=pd.read_csv(\"HAM10000_metadata_kaggle.csv\")\n",
    "data.drop_duplicates(subset=['lesion_id'],inplace=True)\n",
    "data['image_full_name']=data['image_id']+'.jpg'\n",
    "X=data[['image_full_name','dx','lesion_id']]"
   ]
  },
  {
   "cell_type": "code",
   "execution_count": 6,
   "metadata": {},
   "outputs": [],
   "source": [
    "from sklearn.model_selection import train_test_split\n",
    "Y = X.pop('dx').to_frame()\n",
    "X_train, X_test, y_train, y_test = train_test_split(\n",
    "    X, Y, test_size=0.2, random_state=42)\n",
    "X_train, X_val, y_train, y_val = train_test_split(\n",
    "    X_train, y_train, test_size=0.25, random_state=42)"
   ]
  },
  {
   "cell_type": "code",
   "execution_count": 7,
   "metadata": {},
   "outputs": [],
   "source": [
    "train=pd.concat([X_train,y_train],axis=1)\n",
    "val=pd.concat([X_val,y_val],axis=1)\n",
    "test=pd.concat([X_test,y_test],axis=1)"
   ]
  },
  {
   "cell_type": "code",
   "execution_count": 8,
   "metadata": {},
   "outputs": [],
   "source": [
    "\n",
    "from sklearn.preprocessing import LabelEncoder\n",
    "encoder= LabelEncoder()\n",
    "encoder.fit(val['dx'])\n",
    "name_as_indexes_train=encoder.transform(val['dx']) \n",
    "val['label']=name_as_indexes_train\n"
   ]
  },
  {
   "cell_type": "code",
   "execution_count": 9,
   "metadata": {},
   "outputs": [],
   "source": [
    "encoder=LabelEncoder()\n",
    "encoder.fit(test['dx'])\n",
    "name_as_indexes_test=encoder.transform(test['dx']) \n",
    "test['label']=name_as_indexes_test\n"
   ]
  },
  {
   "cell_type": "code",
   "execution_count": 10,
   "metadata": {},
   "outputs": [],
   "source": [
    "from keras_preprocessing.image import ImageDataGenerator\n",
    "train_generator = ImageDataGenerator(rescale = 1./255,\n",
    "                                     rotation_range=10,  \n",
    "                                     zoom_range = 0.1, \n",
    "                                     width_shift_range=0.0,  height_shift_range=0.0) "
   ]
  },
  {
   "cell_type": "code",
   "execution_count": 11,
   "metadata": {},
   "outputs": [
    {
     "name": "stdout",
     "output_type": "stream",
     "text": [
      "Found 4482 validated image filenames belonging to 7 classes.\n"
     ]
    }
   ],
   "source": [
    "train_data= train_generator.flow_from_dataframe(dataframe=train,x_col=\"image_full_name\",y_col=\"dx\",\n",
    "                                                batch_size=64,directory=\"ISIC2018_Task3_Training_Input\",\n",
    "                                                shuffle=True,class_mode=\"categorical\",target_size=(256,256))"
   ]
  },
  {
   "cell_type": "code",
   "execution_count": 12,
   "metadata": {},
   "outputs": [],
   "source": [
    "\n",
    "test_generator=ImageDataGenerator(rescale = 1./255)"
   ]
  },
  {
   "cell_type": "code",
   "execution_count": 13,
   "metadata": {},
   "outputs": [
    {
     "name": "stdout",
     "output_type": "stream",
     "text": [
      "Found 1494 validated image filenames.\n"
     ]
    }
   ],
   "source": [
    "test_data= test_generator.flow_from_dataframe(dataframe=test,x_col=\"image_full_name\",y_col=\"dx\",\n",
    "                                              directory=\"ISIC2018_Task3_Training_Input\",\n",
    "                                              shuffle=False,batch_size=1,class_mode=None,target_size=(256,256))"
   ]
  },
  {
   "cell_type": "code",
   "execution_count": 14,
   "metadata": {},
   "outputs": [
    {
     "name": "stdout",
     "output_type": "stream",
     "text": [
      "Found 1494 validated image filenames belonging to 7 classes.\n"
     ]
    }
   ],
   "source": [
    "val_data=test_generator.flow_from_dataframe(dataframe=val,x_col=\"image_full_name\",y_col=\"dx\",\n",
    "                                            directory=\"ISIC2018_Task3_Training_Input\",\n",
    "                                            batch_size=64,shuffle=False,class_mode=\"categorical\",target_size=(256,256))"
   ]
  },
  {
   "cell_type": "code",
   "execution_count": 15,
   "metadata": {},
   "outputs": [],
   "source": [
    "from keras.callbacks import ReduceLROnPlateau, EarlyStopping, ModelCheckpoint\n",
    "\n",
    "learning_control = ReduceLROnPlateau(monitor='val_accuracy', patience=5, verbose=1, factor=.5, min_lr=0.00001)\n",
    "# early_stopping = EarlyStopping(monitor='val_accuracy', patience=15, verbose=1, restore_best_weights=True)\n",
    "model_checkpoint = ModelCheckpoint(filepath='ResNet50V2.h5', monitor='val_accuracy', verbose=1, save_best_only=True)"
   ]
  },
  {
   "cell_type": "code",
   "execution_count": 16,
   "metadata": {},
   "outputs": [
    {
     "name": "stderr",
     "output_type": "stream",
     "text": [
      "C:\\Users\\gem_9\\AppData\\Local\\Temp\\ipykernel_1932\\1796597191.py:3: UserWarning: `Model.fit_generator` is deprecated and will be removed in a future version. Please use `Model.fit`, which supports generators.\n",
      "  history = model.fit_generator(generator=train_data,\n"
     ]
    },
    {
     "name": "stdout",
     "output_type": "stream",
     "text": [
      "Epoch 1/50\n",
      "70/70 [==============================] - ETA: 0s - loss: 1.2714 - accuracy: 0.6738 - precision: 0.7918 - recall: 0.5878 - f1_score: 0.1644\n",
      "Epoch 1: val_accuracy improved from -inf to 0.74389, saving model to ResNet50V2.h5\n",
      "70/70 [==============================] - 87s 1s/step - loss: 1.2714 - accuracy: 0.6738 - precision: 0.7918 - recall: 0.5878 - f1_score: 0.1644 - val_loss: 0.7635 - val_accuracy: 0.7439 - val_precision: 0.9061 - val_recall: 0.6427 - val_f1_score: 0.1507 - lr: 0.0010\n",
      "Epoch 2/50\n",
      "70/70 [==============================] - ETA: 0s - loss: 0.8345 - accuracy: 0.7245 - precision: 0.8745 - recall: 0.6295 - f1_score: 0.1790\n",
      "Epoch 2: val_accuracy improved from 0.74389 to 0.74524, saving model to ResNet50V2.h5\n",
      "70/70 [==============================] - 76s 1s/step - loss: 0.8345 - accuracy: 0.7245 - precision: 0.8745 - recall: 0.6295 - f1_score: 0.1790 - val_loss: 0.7919 - val_accuracy: 0.7452 - val_precision: 0.9126 - val_recall: 0.5958 - val_f1_score: 0.1692 - lr: 0.0010\n",
      "Epoch 3/50\n",
      "70/70 [==============================] - ETA: 0s - loss: 0.8171 - accuracy: 0.7263 - precision: 0.8785 - recall: 0.6286 - f1_score: 0.1969\n",
      "Epoch 3: val_accuracy improved from 0.74524 to 0.75815, saving model to ResNet50V2.h5\n",
      "70/70 [==============================] - 73s 1s/step - loss: 0.8171 - accuracy: 0.7263 - precision: 0.8785 - recall: 0.6286 - f1_score: 0.1969 - val_loss: 0.7068 - val_accuracy: 0.7582 - val_precision: 0.9090 - val_recall: 0.6583 - val_f1_score: 0.1916 - lr: 0.0010\n",
      "Epoch 4/50\n",
      "70/70 [==============================] - ETA: 0s - loss: 0.7562 - accuracy: 0.7365 - precision: 0.8902 - recall: 0.6498 - f1_score: 0.2060\n",
      "Epoch 4: val_accuracy improved from 0.75815 to 0.76427, saving model to ResNet50V2.h5\n",
      "70/70 [==============================] - 73s 1s/step - loss: 0.7562 - accuracy: 0.7365 - precision: 0.8902 - recall: 0.6498 - f1_score: 0.2060 - val_loss: 0.6875 - val_accuracy: 0.7643 - val_precision: 0.9183 - val_recall: 0.6182 - val_f1_score: 0.2285 - lr: 0.0010\n",
      "Epoch 5/50\n",
      "70/70 [==============================] - ETA: 0s - loss: 0.7045 - accuracy: 0.7460 - precision: 0.8936 - recall: 0.6593 - f1_score: 0.2268\n",
      "Epoch 5: val_accuracy improved from 0.76427 to 0.76562, saving model to ResNet50V2.h5\n",
      "70/70 [==============================] - 73s 1s/step - loss: 0.7045 - accuracy: 0.7460 - precision: 0.8936 - recall: 0.6593 - f1_score: 0.2268 - val_loss: 0.6700 - val_accuracy: 0.7656 - val_precision: 0.8962 - val_recall: 0.6746 - val_f1_score: 0.2105 - lr: 0.0010\n",
      "Epoch 6/50\n",
      "70/70 [==============================] - ETA: 0s - loss: 0.6886 - accuracy: 0.7619 - precision: 0.8886 - recall: 0.6750 - f1_score: 0.2617\n",
      "Epoch 6: val_accuracy did not improve from 0.76562\n",
      "70/70 [==============================] - 73s 1s/step - loss: 0.6886 - accuracy: 0.7619 - precision: 0.8886 - recall: 0.6750 - f1_score: 0.2617 - val_loss: 0.7224 - val_accuracy: 0.7541 - val_precision: 0.9320 - val_recall: 0.6141 - val_f1_score: 0.2291 - lr: 0.0010\n",
      "Epoch 7/50\n",
      "70/70 [==============================] - ETA: 0s - loss: 0.6777 - accuracy: 0.7537 - precision: 0.8861 - recall: 0.6759 - f1_score: 0.2554\n",
      "Epoch 7: val_accuracy improved from 0.76562 to 0.76698, saving model to ResNet50V2.h5\n",
      "70/70 [==============================] - 73s 1s/step - loss: 0.6777 - accuracy: 0.7537 - precision: 0.8861 - recall: 0.6759 - f1_score: 0.2554 - val_loss: 0.6532 - val_accuracy: 0.7670 - val_precision: 0.8953 - val_recall: 0.6678 - val_f1_score: 0.2446 - lr: 0.0010\n",
      "Epoch 8/50\n",
      "70/70 [==============================] - ETA: 0s - loss: 0.6598 - accuracy: 0.7644 - precision: 0.8954 - recall: 0.6842 - f1_score: 0.2826\n",
      "Epoch 8: val_accuracy improved from 0.76698 to 0.77514, saving model to ResNet50V2.h5\n",
      "70/70 [==============================] - 73s 1s/step - loss: 0.6598 - accuracy: 0.7644 - precision: 0.8954 - recall: 0.6842 - f1_score: 0.2826 - val_loss: 0.6260 - val_accuracy: 0.7751 - val_precision: 0.8985 - val_recall: 0.6977 - val_f1_score: 0.2487 - lr: 0.0010\n",
      "Epoch 9/50\n",
      "70/70 [==============================] - ETA: 0s - loss: 0.6394 - accuracy: 0.7712 - precision: 0.9007 - recall: 0.6919 - f1_score: 0.2860\n",
      "Epoch 9: val_accuracy did not improve from 0.77514\n",
      "70/70 [==============================] - 73s 1s/step - loss: 0.6394 - accuracy: 0.7712 - precision: 0.9007 - recall: 0.6919 - f1_score: 0.2860 - val_loss: 0.6469 - val_accuracy: 0.7724 - val_precision: 0.9179 - val_recall: 0.6535 - val_f1_score: 0.2648 - lr: 0.0010\n",
      "Epoch 10/50\n",
      "70/70 [==============================] - ETA: 0s - loss: 0.6112 - accuracy: 0.7829 - precision: 0.8973 - recall: 0.7121 - f1_score: 0.3037\n",
      "Epoch 10: val_accuracy improved from 0.77514 to 0.77785, saving model to ResNet50V2.h5\n",
      "70/70 [==============================] - 73s 1s/step - loss: 0.6112 - accuracy: 0.7829 - precision: 0.8973 - recall: 0.7121 - f1_score: 0.3037 - val_loss: 0.6366 - val_accuracy: 0.7779 - val_precision: 0.8988 - val_recall: 0.6821 - val_f1_score: 0.2637 - lr: 0.0010\n",
      "Epoch 11/50\n",
      "70/70 [==============================] - ETA: 0s - loss: 0.5992 - accuracy: 0.7795 - precision: 0.9040 - recall: 0.7080 - f1_score: 0.2857\n",
      "Epoch 11: val_accuracy did not improve from 0.77785\n",
      "70/70 [==============================] - 73s 1s/step - loss: 0.5992 - accuracy: 0.7795 - precision: 0.9040 - recall: 0.7080 - f1_score: 0.2857 - val_loss: 0.6652 - val_accuracy: 0.7697 - val_precision: 0.9014 - val_recall: 0.6644 - val_f1_score: 0.2642 - lr: 0.0010\n",
      "Epoch 12/50\n",
      "70/70 [==============================] - ETA: 0s - loss: 0.6098 - accuracy: 0.7836 - precision: 0.9082 - recall: 0.7035 - f1_score: 0.3135\n",
      "Epoch 12: val_accuracy did not improve from 0.77785\n",
      "70/70 [==============================] - 72s 1s/step - loss: 0.6098 - accuracy: 0.7836 - precision: 0.9082 - recall: 0.7035 - f1_score: 0.3135 - val_loss: 0.6364 - val_accuracy: 0.7690 - val_precision: 0.8981 - val_recall: 0.6705 - val_f1_score: 0.2916 - lr: 0.0010\n",
      "Epoch 13/50\n",
      "70/70 [==============================] - ETA: 0s - loss: 0.6080 - accuracy: 0.7834 - precision: 0.8945 - recall: 0.7046 - f1_score: 0.3215\n",
      "Epoch 13: val_accuracy did not improve from 0.77785\n",
      "70/70 [==============================] - 72s 1s/step - loss: 0.6080 - accuracy: 0.7834 - precision: 0.8945 - recall: 0.7046 - f1_score: 0.3215 - val_loss: 0.6559 - val_accuracy: 0.7751 - val_precision: 0.9140 - val_recall: 0.6644 - val_f1_score: 0.2993 - lr: 0.0010\n",
      "Epoch 14/50\n",
      "70/70 [==============================] - ETA: 0s - loss: 0.5535 - accuracy: 0.7927 - precision: 0.9051 - recall: 0.7250 - f1_score: 0.3667\n",
      "Epoch 14: val_accuracy did not improve from 0.77785\n",
      "70/70 [==============================] - 73s 1s/step - loss: 0.5535 - accuracy: 0.7927 - precision: 0.9051 - recall: 0.7250 - f1_score: 0.3667 - val_loss: 0.6395 - val_accuracy: 0.7758 - val_precision: 0.8861 - val_recall: 0.6977 - val_f1_score: 0.2883 - lr: 0.0010\n",
      "Epoch 15/50\n",
      "70/70 [==============================] - ETA: 0s - loss: 0.5368 - accuracy: 0.7986 - precision: 0.9082 - recall: 0.7390 - f1_score: 0.3736\n",
      "Epoch 15: ReduceLROnPlateau reducing learning rate to 0.0005000000237487257.\n",
      "\n",
      "Epoch 15: val_accuracy did not improve from 0.77785\n",
      "70/70 [==============================] - 72s 1s/step - loss: 0.5368 - accuracy: 0.7986 - precision: 0.9082 - recall: 0.7390 - f1_score: 0.3736 - val_loss: 0.6337 - val_accuracy: 0.7704 - val_precision: 0.8983 - val_recall: 0.6780 - val_f1_score: 0.2980 - lr: 0.0010\n",
      "Epoch 16/50\n",
      "70/70 [==============================] - ETA: 0s - loss: 0.5107 - accuracy: 0.8047 - precision: 0.9131 - recall: 0.7325 - f1_score: 0.4001\n",
      "Epoch 16: val_accuracy improved from 0.77785 to 0.78193, saving model to ResNet50V2.h5\n",
      "70/70 [==============================] - 73s 1s/step - loss: 0.5107 - accuracy: 0.8047 - precision: 0.9131 - recall: 0.7325 - f1_score: 0.4001 - val_loss: 0.6282 - val_accuracy: 0.7819 - val_precision: 0.8676 - val_recall: 0.7215 - val_f1_score: 0.3010 - lr: 5.0000e-04\n",
      "Epoch 17/50\n",
      "70/70 [==============================] - ETA: 0s - loss: 0.4712 - accuracy: 0.8225 - precision: 0.9119 - recall: 0.7617 - f1_score: 0.4448\n",
      "Epoch 17: val_accuracy improved from 0.78193 to 0.79212, saving model to ResNet50V2.h5\n",
      "70/70 [==============================] - 73s 1s/step - loss: 0.4712 - accuracy: 0.8225 - precision: 0.9119 - recall: 0.7617 - f1_score: 0.4448 - val_loss: 0.6330 - val_accuracy: 0.7921 - val_precision: 0.8706 - val_recall: 0.7221 - val_f1_score: 0.3206 - lr: 5.0000e-04\n",
      "Epoch 18/50\n",
      "70/70 [==============================] - ETA: 0s - loss: 0.4661 - accuracy: 0.8225 - precision: 0.9105 - recall: 0.7687 - f1_score: 0.4332\n",
      "Epoch 18: val_accuracy did not improve from 0.79212\n",
      "70/70 [==============================] - 72s 1s/step - loss: 0.4661 - accuracy: 0.8225 - precision: 0.9105 - recall: 0.7687 - f1_score: 0.4332 - val_loss: 0.6364 - val_accuracy: 0.7867 - val_precision: 0.8666 - val_recall: 0.7323 - val_f1_score: 0.3080 - lr: 5.0000e-04\n",
      "Epoch 19/50\n",
      "70/70 [==============================] - ETA: 0s - loss: 0.4477 - accuracy: 0.8361 - precision: 0.9171 - recall: 0.7759 - f1_score: 0.4661\n",
      "Epoch 19: val_accuracy did not improve from 0.79212\n",
      "70/70 [==============================] - 72s 1s/step - loss: 0.4477 - accuracy: 0.8361 - precision: 0.9171 - recall: 0.7759 - f1_score: 0.4661 - val_loss: 0.6319 - val_accuracy: 0.7826 - val_precision: 0.8749 - val_recall: 0.7126 - val_f1_score: 0.3311 - lr: 5.0000e-04\n",
      "Epoch 20/50\n",
      "70/70 [==============================] - ETA: 0s - loss: 0.4480 - accuracy: 0.8368 - precision: 0.9180 - recall: 0.7755 - f1_score: 0.4741\n",
      "Epoch 20: val_accuracy did not improve from 0.79212\n",
      "70/70 [==============================] - 72s 1s/step - loss: 0.4480 - accuracy: 0.8368 - precision: 0.9180 - recall: 0.7755 - f1_score: 0.4741 - val_loss: 0.6334 - val_accuracy: 0.7840 - val_precision: 0.8701 - val_recall: 0.7188 - val_f1_score: 0.3395 - lr: 5.0000e-04\n",
      "Epoch 21/50\n",
      "70/70 [==============================] - ETA: 0s - loss: 0.4386 - accuracy: 0.8300 - precision: 0.9110 - recall: 0.7782 - f1_score: 0.4706\n",
      "Epoch 21: val_accuracy did not improve from 0.79212\n",
      "70/70 [==============================] - 72s 1s/step - loss: 0.4386 - accuracy: 0.8300 - precision: 0.9110 - recall: 0.7782 - f1_score: 0.4706 - val_loss: 0.6925 - val_accuracy: 0.7602 - val_precision: 0.8868 - val_recall: 0.6549 - val_f1_score: 0.3554 - lr: 5.0000e-04\n",
      "Epoch 22/50\n",
      "70/70 [==============================] - ETA: 0s - loss: 0.4769 - accuracy: 0.8264 - precision: 0.9073 - recall: 0.7646 - f1_score: 0.4858\n",
      "Epoch 22: ReduceLROnPlateau reducing learning rate to 0.0002500000118743628.\n",
      "\n",
      "Epoch 22: val_accuracy did not improve from 0.79212\n",
      "70/70 [==============================] - 73s 1s/step - loss: 0.4769 - accuracy: 0.8264 - precision: 0.9073 - recall: 0.7646 - f1_score: 0.4858 - val_loss: 0.6817 - val_accuracy: 0.7867 - val_precision: 0.8594 - val_recall: 0.7391 - val_f1_score: 0.3055 - lr: 5.0000e-04\n",
      "Epoch 23/50\n",
      "70/70 [==============================] - ETA: 0s - loss: 0.4256 - accuracy: 0.8445 - precision: 0.9155 - recall: 0.7893 - f1_score: 0.5036\n",
      "Epoch 23: val_accuracy did not improve from 0.79212\n",
      "70/70 [==============================] - 72s 1s/step - loss: 0.4256 - accuracy: 0.8445 - precision: 0.9155 - recall: 0.7893 - f1_score: 0.5036 - val_loss: 0.6241 - val_accuracy: 0.7908 - val_precision: 0.8745 - val_recall: 0.7289 - val_f1_score: 0.3695 - lr: 2.5000e-04\n",
      "Epoch 24/50\n",
      "70/70 [==============================] - ETA: 0s - loss: 0.4100 - accuracy: 0.8427 - precision: 0.9219 - recall: 0.7859 - f1_score: 0.5142\n",
      "Epoch 24: val_accuracy did not improve from 0.79212\n",
      "70/70 [==============================] - 72s 1s/step - loss: 0.4100 - accuracy: 0.8427 - precision: 0.9219 - recall: 0.7859 - f1_score: 0.5142 - val_loss: 0.6402 - val_accuracy: 0.7860 - val_precision: 0.8586 - val_recall: 0.7303 - val_f1_score: 0.3541 - lr: 2.5000e-04\n",
      "Epoch 25/50\n",
      "70/70 [==============================] - ETA: 0s - loss: 0.3840 - accuracy: 0.8581 - precision: 0.9189 - recall: 0.8108 - f1_score: 0.5547\n",
      "Epoch 25: val_accuracy improved from 0.79212 to 0.79484, saving model to ResNet50V2.h5\n",
      "70/70 [==============================] - 73s 1s/step - loss: 0.3840 - accuracy: 0.8581 - precision: 0.9189 - recall: 0.8108 - f1_score: 0.5547 - val_loss: 0.6578 - val_accuracy: 0.7948 - val_precision: 0.8593 - val_recall: 0.7344 - val_f1_score: 0.3720 - lr: 2.5000e-04\n",
      "Epoch 26/50\n",
      "70/70 [==============================] - ETA: 0s - loss: 0.3868 - accuracy: 0.8576 - precision: 0.9227 - recall: 0.8074 - f1_score: 0.5520\n",
      "Epoch 26: val_accuracy improved from 0.79484 to 0.79620, saving model to ResNet50V2.h5\n",
      "70/70 [==============================] - 74s 1s/step - loss: 0.3868 - accuracy: 0.8576 - precision: 0.9227 - recall: 0.8074 - f1_score: 0.5520 - val_loss: 0.6424 - val_accuracy: 0.7962 - val_precision: 0.8648 - val_recall: 0.7344 - val_f1_score: 0.3751 - lr: 2.5000e-04\n",
      "Epoch 27/50\n",
      "70/70 [==============================] - ETA: 0s - loss: 0.3707 - accuracy: 0.8635 - precision: 0.9336 - recall: 0.8112 - f1_score: 0.5667\n",
      "Epoch 27: val_accuracy did not improve from 0.79620\n",
      "70/70 [==============================] - 72s 1s/step - loss: 0.3707 - accuracy: 0.8635 - precision: 0.9336 - recall: 0.8112 - f1_score: 0.5667 - val_loss: 0.6441 - val_accuracy: 0.7921 - val_precision: 0.8663 - val_recall: 0.7398 - val_f1_score: 0.3568 - lr: 2.5000e-04\n",
      "Epoch 28/50\n",
      "70/70 [==============================] - ETA: 0s - loss: 0.3623 - accuracy: 0.8601 - precision: 0.9280 - recall: 0.8196 - f1_score: 0.5618\n",
      "Epoch 28: val_accuracy did not improve from 0.79620\n",
      "70/70 [==============================] - 73s 1s/step - loss: 0.3623 - accuracy: 0.8601 - precision: 0.9280 - recall: 0.8196 - f1_score: 0.5618 - val_loss: 0.6454 - val_accuracy: 0.7921 - val_precision: 0.8566 - val_recall: 0.7385 - val_f1_score: 0.3624 - lr: 2.5000e-04\n",
      "Epoch 29/50\n",
      "70/70 [==============================] - ETA: 0s - loss: 0.3496 - accuracy: 0.8676 - precision: 0.9313 - recall: 0.8280 - f1_score: 0.5596\n",
      "Epoch 29: val_accuracy did not improve from 0.79620\n",
      "70/70 [==============================] - 71s 1s/step - loss: 0.3496 - accuracy: 0.8676 - precision: 0.9313 - recall: 0.8280 - f1_score: 0.5596 - val_loss: 0.6684 - val_accuracy: 0.7948 - val_precision: 0.8590 - val_recall: 0.7452 - val_f1_score: 0.3685 - lr: 2.5000e-04\n",
      "Epoch 30/50\n",
      "70/70 [==============================] - ETA: 0s - loss: 0.3479 - accuracy: 0.8719 - precision: 0.9336 - recall: 0.8237 - f1_score: 0.6069\n",
      "Epoch 30: val_accuracy did not improve from 0.79620\n",
      "70/70 [==============================] - 70s 1s/step - loss: 0.3479 - accuracy: 0.8719 - precision: 0.9336 - recall: 0.8237 - f1_score: 0.6069 - val_loss: 0.6888 - val_accuracy: 0.7908 - val_precision: 0.8603 - val_recall: 0.7405 - val_f1_score: 0.3582 - lr: 2.5000e-04\n",
      "Epoch 31/50\n",
      "70/70 [==============================] - ETA: 0s - loss: 0.3387 - accuracy: 0.8721 - precision: 0.9292 - recall: 0.8314 - f1_score: 0.5925\n",
      "Epoch 31: ReduceLROnPlateau reducing learning rate to 0.0001250000059371814.\n",
      "\n",
      "Epoch 31: val_accuracy did not improve from 0.79620\n",
      "70/70 [==============================] - 70s 1s/step - loss: 0.3387 - accuracy: 0.8721 - precision: 0.9292 - recall: 0.8314 - f1_score: 0.5925 - val_loss: 0.6816 - val_accuracy: 0.7914 - val_precision: 0.8562 - val_recall: 0.7446 - val_f1_score: 0.3768 - lr: 2.5000e-04\n",
      "Epoch 32/50\n",
      "70/70 [==============================] - ETA: 0s - loss: 0.3289 - accuracy: 0.8785 - precision: 0.9401 - recall: 0.8352 - f1_score: 0.6247\n",
      "Epoch 32: val_accuracy improved from 0.79620 to 0.79823, saving model to ResNet50V2.h5\n",
      "70/70 [==============================] - 70s 1s/step - loss: 0.3289 - accuracy: 0.8785 - precision: 0.9401 - recall: 0.8352 - f1_score: 0.6247 - val_loss: 0.6881 - val_accuracy: 0.7982 - val_precision: 0.8569 - val_recall: 0.7486 - val_f1_score: 0.3870 - lr: 1.2500e-04\n",
      "Epoch 33/50\n",
      "70/70 [==============================] - ETA: 0s - loss: 0.3256 - accuracy: 0.8789 - precision: 0.9329 - recall: 0.8397 - f1_score: 0.6197\n",
      "Epoch 33: val_accuracy did not improve from 0.79823\n",
      "70/70 [==============================] - 70s 1s/step - loss: 0.3256 - accuracy: 0.8789 - precision: 0.9329 - recall: 0.8397 - f1_score: 0.6197 - val_loss: 0.6914 - val_accuracy: 0.7976 - val_precision: 0.8545 - val_recall: 0.7500 - val_f1_score: 0.3770 - lr: 1.2500e-04\n",
      "Epoch 34/50\n",
      "70/70 [==============================] - ETA: 0s - loss: 0.3249 - accuracy: 0.8828 - precision: 0.9380 - recall: 0.8429 - f1_score: 0.6309\n",
      "Epoch 34: val_accuracy improved from 0.79823 to 0.80231, saving model to ResNet50V2.h5\n",
      "70/70 [==============================] - 71s 1s/step - loss: 0.3249 - accuracy: 0.8828 - precision: 0.9380 - recall: 0.8429 - f1_score: 0.6309 - val_loss: 0.6746 - val_accuracy: 0.8023 - val_precision: 0.8578 - val_recall: 0.7541 - val_f1_score: 0.3900 - lr: 1.2500e-04\n",
      "Epoch 35/50\n",
      "70/70 [==============================] - ETA: 0s - loss: 0.3052 - accuracy: 0.8830 - precision: 0.9413 - recall: 0.8454 - f1_score: 0.6363\n",
      "Epoch 35: val_accuracy did not improve from 0.80231\n",
      "70/70 [==============================] - 70s 1s/step - loss: 0.3052 - accuracy: 0.8830 - precision: 0.9413 - recall: 0.8454 - f1_score: 0.6363 - val_loss: 0.7018 - val_accuracy: 0.8010 - val_precision: 0.8607 - val_recall: 0.7554 - val_f1_score: 0.3860 - lr: 1.2500e-04\n",
      "Epoch 36/50\n",
      "70/70 [==============================] - ETA: 0s - loss: 0.3181 - accuracy: 0.8809 - precision: 0.9323 - recall: 0.8411 - f1_score: 0.6290\n",
      "Epoch 36: val_accuracy did not improve from 0.80231\n",
      "70/70 [==============================] - 71s 1s/step - loss: 0.3181 - accuracy: 0.8809 - precision: 0.9323 - recall: 0.8411 - f1_score: 0.6290 - val_loss: 0.6907 - val_accuracy: 0.8010 - val_precision: 0.8569 - val_recall: 0.7486 - val_f1_score: 0.3917 - lr: 1.2500e-04\n",
      "Epoch 37/50\n",
      "70/70 [==============================] - ETA: 0s - loss: 0.3165 - accuracy: 0.8800 - precision: 0.9359 - recall: 0.8461 - f1_score: 0.6365\n",
      "Epoch 37: val_accuracy did not improve from 0.80231\n",
      "70/70 [==============================] - 70s 1000ms/step - loss: 0.3165 - accuracy: 0.8800 - precision: 0.9359 - recall: 0.8461 - f1_score: 0.6365 - val_loss: 0.6815 - val_accuracy: 0.7976 - val_precision: 0.8544 - val_recall: 0.7493 - val_f1_score: 0.3863 - lr: 1.2500e-04\n",
      "Epoch 38/50\n",
      "70/70 [==============================] - ETA: 0s - loss: 0.3118 - accuracy: 0.8859 - precision: 0.9429 - recall: 0.8486 - f1_score: 0.6470\n",
      "Epoch 38: val_accuracy did not improve from 0.80231\n",
      "70/70 [==============================] - 70s 1s/step - loss: 0.3118 - accuracy: 0.8859 - precision: 0.9429 - recall: 0.8486 - f1_score: 0.6470 - val_loss: 0.6904 - val_accuracy: 0.7996 - val_precision: 0.8615 - val_recall: 0.7520 - val_f1_score: 0.3952 - lr: 1.2500e-04\n",
      "Epoch 39/50\n",
      "70/70 [==============================] - ETA: 0s - loss: 0.2950 - accuracy: 0.8916 - precision: 0.9380 - recall: 0.8533 - f1_score: 0.6511\n",
      "Epoch 39: ReduceLROnPlateau reducing learning rate to 6.25000029685907e-05.\n",
      "\n",
      "Epoch 39: val_accuracy did not improve from 0.80231\n",
      "70/70 [==============================] - 70s 1s/step - loss: 0.2950 - accuracy: 0.8916 - precision: 0.9380 - recall: 0.8533 - f1_score: 0.6511 - val_loss: 0.6812 - val_accuracy: 0.8023 - val_precision: 0.8544 - val_recall: 0.7534 - val_f1_score: 0.4218 - lr: 1.2500e-04\n",
      "Epoch 40/50\n",
      "70/70 [==============================] - ETA: 0s - loss: 0.2944 - accuracy: 0.8938 - precision: 0.9394 - recall: 0.8526 - f1_score: 0.6808\n",
      "Epoch 40: val_accuracy did not improve from 0.80231\n",
      "70/70 [==============================] - 70s 1s/step - loss: 0.2944 - accuracy: 0.8938 - precision: 0.9394 - recall: 0.8526 - f1_score: 0.6808 - val_loss: 0.6933 - val_accuracy: 0.8023 - val_precision: 0.8589 - val_recall: 0.7609 - val_f1_score: 0.4192 - lr: 6.2500e-05\n",
      "Epoch 41/50\n",
      "70/70 [==============================] - ETA: 0s - loss: 0.2937 - accuracy: 0.8882 - precision: 0.9375 - recall: 0.8526 - f1_score: 0.6641\n",
      "Epoch 41: val_accuracy did not improve from 0.80231\n",
      "70/70 [==============================] - 70s 999ms/step - loss: 0.2937 - accuracy: 0.8882 - precision: 0.9375 - recall: 0.8526 - f1_score: 0.6641 - val_loss: 0.6931 - val_accuracy: 0.8016 - val_precision: 0.8578 - val_recall: 0.7622 - val_f1_score: 0.4097 - lr: 6.2500e-05\n",
      "Epoch 42/50\n",
      "70/70 [==============================] - ETA: 0s - loss: 0.2890 - accuracy: 0.8945 - precision: 0.9400 - recall: 0.8583 - f1_score: 0.6888\n",
      "Epoch 42: val_accuracy did not improve from 0.80231\n",
      "70/70 [==============================] - 70s 1s/step - loss: 0.2890 - accuracy: 0.8945 - precision: 0.9400 - recall: 0.8583 - f1_score: 0.6888 - val_loss: 0.6876 - val_accuracy: 0.8010 - val_precision: 0.8522 - val_recall: 0.7561 - val_f1_score: 0.4080 - lr: 6.2500e-05\n",
      "Epoch 43/50\n",
      "70/70 [==============================] - ETA: 0s - loss: 0.2996 - accuracy: 0.8895 - precision: 0.9404 - recall: 0.8569 - f1_score: 0.6430\n",
      "Epoch 43: val_accuracy did not improve from 0.80231\n",
      "70/70 [==============================] - 70s 1s/step - loss: 0.2996 - accuracy: 0.8895 - precision: 0.9404 - recall: 0.8569 - f1_score: 0.6430 - val_loss: 0.6945 - val_accuracy: 0.7982 - val_precision: 0.8524 - val_recall: 0.7575 - val_f1_score: 0.4092 - lr: 6.2500e-05\n",
      "Epoch 44/50\n",
      "70/70 [==============================] - ETA: 0s - loss: 0.2824 - accuracy: 0.8945 - precision: 0.9422 - recall: 0.8592 - f1_score: 0.6663\n",
      "Epoch 44: ReduceLROnPlateau reducing learning rate to 3.125000148429535e-05.\n",
      "\n",
      "Epoch 44: val_accuracy did not improve from 0.80231\n",
      "70/70 [==============================] - 71s 1s/step - loss: 0.2824 - accuracy: 0.8945 - precision: 0.9422 - recall: 0.8592 - f1_score: 0.6663 - val_loss: 0.7014 - val_accuracy: 0.7976 - val_precision: 0.8495 - val_recall: 0.7554 - val_f1_score: 0.4165 - lr: 6.2500e-05\n",
      "Epoch 45/50\n",
      "70/70 [==============================] - ETA: 0s - loss: 0.2901 - accuracy: 0.8902 - precision: 0.9388 - recall: 0.8608 - f1_score: 0.6924\n",
      "Epoch 45: val_accuracy did not improve from 0.80231\n",
      "70/70 [==============================] - 70s 999ms/step - loss: 0.2901 - accuracy: 0.8902 - precision: 0.9388 - recall: 0.8608 - f1_score: 0.6924 - val_loss: 0.7031 - val_accuracy: 0.8003 - val_precision: 0.8504 - val_recall: 0.7568 - val_f1_score: 0.4157 - lr: 3.1250e-05\n",
      "Epoch 46/50\n",
      "70/70 [==============================] - ETA: 0s - loss: 0.2765 - accuracy: 0.8984 - precision: 0.9410 - recall: 0.8626 - f1_score: 0.6912\n",
      "Epoch 46: val_accuracy did not improve from 0.80231\n",
      "70/70 [==============================] - 70s 999ms/step - loss: 0.2765 - accuracy: 0.8984 - precision: 0.9410 - recall: 0.8626 - f1_score: 0.6912 - val_loss: 0.7131 - val_accuracy: 0.8016 - val_precision: 0.8487 - val_recall: 0.7582 - val_f1_score: 0.4002 - lr: 3.1250e-05\n",
      "Epoch 47/50\n",
      "70/70 [==============================] - ETA: 0s - loss: 0.2879 - accuracy: 0.8943 - precision: 0.9433 - recall: 0.8585 - f1_score: 0.6725\n",
      "Epoch 47: val_accuracy did not improve from 0.80231\n",
      "70/70 [==============================] - 70s 1s/step - loss: 0.2879 - accuracy: 0.8943 - precision: 0.9433 - recall: 0.8585 - f1_score: 0.6725 - val_loss: 0.7116 - val_accuracy: 0.7989 - val_precision: 0.8508 - val_recall: 0.7595 - val_f1_score: 0.4145 - lr: 3.1250e-05\n",
      "Epoch 48/50\n",
      "70/70 [==============================] - ETA: 0s - loss: 0.2743 - accuracy: 0.8945 - precision: 0.9444 - recall: 0.8608 - f1_score: 0.6782\n",
      "Epoch 48: val_accuracy did not improve from 0.80231\n",
      "70/70 [==============================] - 70s 999ms/step - loss: 0.2743 - accuracy: 0.8945 - precision: 0.9444 - recall: 0.8608 - f1_score: 0.6782 - val_loss: 0.7152 - val_accuracy: 0.7989 - val_precision: 0.8498 - val_recall: 0.7609 - val_f1_score: 0.3985 - lr: 3.1250e-05\n",
      "Epoch 49/50\n",
      "70/70 [==============================] - ETA: 0s - loss: 0.2831 - accuracy: 0.8936 - precision: 0.9417 - recall: 0.8599 - f1_score: 0.6750\n",
      "Epoch 49: ReduceLROnPlateau reducing learning rate to 1.5625000742147677e-05.\n",
      "\n",
      "Epoch 49: val_accuracy did not improve from 0.80231\n",
      "70/70 [==============================] - 70s 1s/step - loss: 0.2831 - accuracy: 0.8936 - precision: 0.9417 - recall: 0.8599 - f1_score: 0.6750 - val_loss: 0.7318 - val_accuracy: 0.7996 - val_precision: 0.8462 - val_recall: 0.7622 - val_f1_score: 0.3941 - lr: 3.1250e-05\n",
      "Epoch 50/50\n",
      "70/70 [==============================] - ETA: 0s - loss: 0.2716 - accuracy: 0.8975 - precision: 0.9423 - recall: 0.8617 - f1_score: 0.6865\n",
      "Epoch 50: val_accuracy did not improve from 0.80231\n",
      "70/70 [==============================] - 70s 1s/step - loss: 0.2716 - accuracy: 0.8975 - precision: 0.9423 - recall: 0.8617 - f1_score: 0.6865 - val_loss: 0.7243 - val_accuracy: 0.7996 - val_precision: 0.8485 - val_recall: 0.7609 - val_f1_score: 0.3965 - lr: 1.5625e-05\n"
     ]
    }
   ],
   "source": [
    "model.compile(optimizer=optimizers.Adam(learning_rate=0.001),\n",
    "              loss=\"categorical_crossentropy\", metrics=[\"accuracy\", tf.keras.metrics.Precision(), tf.keras.metrics.Recall(), tfa.metrics.F1Score(num_classes=7, average='macro')])\n",
    "history = model.fit_generator(generator=train_data,\n",
    "                    steps_per_epoch=train_data.samples//train_data.batch_size,\n",
    "                    validation_data=val_data,\n",
    "                    verbose=1,\n",
    "                    validation_steps=val_data.samples//val_data.batch_size,\n",
    "                    epochs=50, callbacks=[learning_control, model_checkpoint])"
   ]
  },
  {
   "cell_type": "code",
   "execution_count": 17,
   "metadata": {},
   "outputs": [
    {
     "data": {
      "image/png": "[encoded data removed]",
      "text/plain": [
       "<Figure size 1500x500 with 2 Axes>"
      ]
     },
     "metadata": {},
     "output_type": "display_data"
    }
   ],
   "source": [
    "# Función para graficar la historia\n",
    "import numpy as np\n",
    "import matplotlib.pyplot as plt\n",
    "EPOCAS = 50\n",
    "\n",
    "def graficar(h):\n",
    "    LOSS = 0\n",
    "    ACCURACY = 1\n",
    "    entrenamiento = np.zeros((2, EPOCAS))\n",
    "    prueba = np.zeros((2, EPOCAS))\n",
    "    entrenamiento[LOSS] = h.history['loss']  # loss de entrenamiento\n",
    "    prueba[LOSS] = h.history['val_loss']    # loss de validación\n",
    "    entrenamiento[ACCURACY] = h.history['accuracy']  # acc de entrenamiento\n",
    "    prueba[ACCURACY] = h.history['val_accuracy']  # acc de validación\n",
    "    epocas = range(1, EPOCAS+1)\n",
    "    fig, axs = plt.subplots(1, 2, figsize=(15, 5))\n",
    "    for i, label in zip((LOSS, ACCURACY), ('Loss', 'Accuracy')):\n",
    "        axs[i].plot(epocas, entrenamiento[i], 'b-', label='Training '+label)\n",
    "        axs[i].plot(epocas, prueba[i], 'y-', label='Validationg '+label)\n",
    "        axs[i].set_title('Training & Validation ' + label)\n",
    "        axs[i].set_xlabel('Epochs')\n",
    "        axs[i].set_ylabel(label)\n",
    "        axs[i].legend()\n",
    "    plt.show()\n",
    "\n",
    "graficar(history)"
   ]
  },
  {
   "cell_type": "code",
   "execution_count": 18,
   "metadata": {},
   "outputs": [
    {
     "name": "stderr",
     "output_type": "stream",
     "text": [
      "C:\\Users\\gem_9\\AppData\\Local\\Temp\\ipykernel_1932\\1044357436.py:2: UserWarning: `Model.predict_generator` is deprecated and will be removed in a future version. Please use `Model.predict`, which supports generators.\n",
      "  predictions = model.predict_generator(test_data, steps=test_data.samples/test_data.batch_size,verbose=1)\n"
     ]
    },
    {
     "name": "stdout",
     "output_type": "stream",
     "text": [
      "1494/1494 [==============================] - 15s 9ms/step\n"
     ]
    }
   ],
   "source": [
    "test_data.reset()\n",
    "predictions = model.predict_generator(test_data, steps=test_data.samples/test_data.batch_size,verbose=1)\n",
    "y_pred= np.argmax(predictions, axis=1)"
   ]
  },
  {
   "cell_type": "code",
   "execution_count": 19,
   "metadata": {},
   "outputs": [
    {
     "name": "stdout",
     "output_type": "stream",
     "text": [
      "[[  7   8  16   0   8   8   0]\n",
      " [  5  34  23   0   2  20   0]\n",
      " [  2   9  90   1  18  35   0]\n",
      " [  0   0   8   0   1   9   0]\n",
      " [  2   2  20   0  37  58   1]\n",
      " [  1  10  22   0  19 993   2]\n",
      " [  0   1   3   0   0  14   5]]\n"
     ]
    }
   ],
   "source": [
    "from sklearn.metrics import confusion_matrix, classification_report\n",
    "cm= confusion_matrix(name_as_indexes_test,y_pred)\n",
    "print(cm)"
   ]
  },
  {
   "cell_type": "code",
   "execution_count": 20,
   "metadata": {},
   "outputs": [
    {
     "name": "stdout",
     "output_type": "stream",
     "text": [
      "              precision    recall  f1-score   support\n",
      "\n",
      "           0       0.41      0.15      0.22        47\n",
      "           1       0.53      0.40      0.46        84\n",
      "           2       0.49      0.58      0.53       155\n",
      "           3       0.00      0.00      0.00        18\n",
      "           4       0.44      0.31      0.36       120\n",
      "           5       0.87      0.95      0.91      1047\n",
      "           6       0.62      0.22      0.32        23\n",
      "\n",
      "    accuracy                           0.78      1494\n",
      "   macro avg       0.48      0.37      0.40      1494\n",
      "weighted avg       0.75      0.78      0.76      1494\n",
      "\n"
     ]
    }
   ],
   "source": [
    "\n",
    "print(classification_report(name_as_indexes_test,y_pred))\n"
   ]
  }
 ],
 "metadata": {
  "kernelspec": {
   "display_name": "Python 3",
   "language": "python",
   "name": "python3"
  },
  "language_info": {
   "codemirror_mode": {
    "name": "ipython",
    "version": 3
   },
   "file_extension": ".py",
   "mimetype": "text/x-python",
   "name": "python",
   "nbconvert_exporter": "python",
   "pygments_lexer": "ipython3",
   "version": "3.10.11"
  }
 },
 "nbformat": 4,
 "nbformat_minor": 1
}
