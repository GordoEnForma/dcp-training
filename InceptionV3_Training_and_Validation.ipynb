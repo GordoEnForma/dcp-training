{
 "cells": [
  {
   "cell_type": "code",
   "execution_count": 1,
   "metadata": {
    "_cell_guid": "79c7e3d0-c299-4dcb-8224-4455121ee9b0",
    "_uuid": "d629ff2d2480ee46fbb7e2d37f6b5fab8052498a"
   },
   "outputs": [
    {
     "name": "stderr",
     "output_type": "stream",
     "text": [
      "c:\\Users\\gem_9\\miniconda3\\envs\\dcp\\lib\\site-packages\\tensorflow_addons\\utils\\tfa_eol_msg.py:23: UserWarning: \n",
      "\n",
      "TensorFlow Addons (TFA) has ended development and introduction of new features.\n",
      "TFA has entered a minimal maintenance and release mode until a planned end of life in May 2024.\n",
      "Please modify downstream libraries to take dependencies from other repositories in our TensorFlow community (e.g. Keras, Keras-CV, and Keras-NLP). \n",
      "\n",
      "For more information see: https://github.com/tensorflow/addons/issues/2807 \n",
      "\n",
      "  warnings.warn(\n"
     ]
    }
   ],
   "source": [
    "import pandas as pd\n",
    "import numpy as np\n",
    "import tensorflow as tf\n",
    "import tensorflow_addons as tfa\n",
    "from keras.models import Sequential\n",
    "from keras import optimizers\n",
    "from keras.layers import Dense, Conv2D, Dropout, Flatten, MaxPooling2D\n",
    "from keras.applications import InceptionV3"
   ]
  },
  {
   "cell_type": "code",
   "execution_count": 2,
   "metadata": {},
   "outputs": [],
   "source": [
    "base_model= InceptionV3(include_top=False, weights=\"imagenet\", input_shape=(256,256,3))"
   ]
  },
  {
   "cell_type": "code",
   "execution_count": 3,
   "metadata": {},
   "outputs": [],
   "source": [
    "base_model.trainable = False\n",
    "# for layer in base_model.layers:\n",
    "#     layer.trainable = False"
   ]
  },
  {
   "cell_type": "code",
   "execution_count": 4,
   "metadata": {},
   "outputs": [],
   "source": [
    "\n",
    "model= Sequential()\n",
    "model.add(base_model)\n",
    "model.add(Conv2D(64, (3, 3), activation = 'relu'))\n",
    "model.add(MaxPooling2D(pool_size = (2, 2)))\n",
    "model.add(Dropout(0.40))\n",
    "model.add(Flatten())\n",
    "model.add(Dense(128,activation='relu', kernel_regularizer=tf.keras.regularizers.l2(0.001)))\n",
    "model.add(Dropout(0.4))\n",
    "model.add(Dense(7, activation='softmax'))\n"
   ]
  },
  {
   "cell_type": "code",
   "execution_count": 5,
   "metadata": {},
   "outputs": [],
   "source": [
    "data=pd.read_csv(\"HAM10000_metadata_kaggle.csv\")\n",
    "data.drop_duplicates(subset=['lesion_id'],inplace=True)\n",
    "data['image_full_name']=data['image_id']+'.jpg'\n",
    "X=data[['image_full_name','dx','lesion_id']]"
   ]
  },
  {
   "cell_type": "code",
   "execution_count": 6,
   "metadata": {},
   "outputs": [],
   "source": [
    "from sklearn.model_selection import train_test_split\n",
    "Y = X.pop('dx').to_frame()\n",
    "X_train, X_test, y_train, y_test = train_test_split(\n",
    "    X, Y, test_size=0.2, random_state=42)\n",
    "X_train, X_val, y_train, y_val = train_test_split(\n",
    "    X_train, y_train, test_size=0.25, random_state=42)"
   ]
  },
  {
   "cell_type": "code",
   "execution_count": 7,
   "metadata": {},
   "outputs": [],
   "source": [
    "train=pd.concat([X_train,y_train],axis=1)\n",
    "val=pd.concat([X_val,y_val],axis=1)\n",
    "test=pd.concat([X_test,y_test],axis=1)"
   ]
  },
  {
   "cell_type": "code",
   "execution_count": 8,
   "metadata": {},
   "outputs": [],
   "source": [
    "\n",
    "from sklearn.preprocessing import LabelEncoder\n",
    "encoder= LabelEncoder()\n",
    "encoder.fit(val['dx'])\n",
    "name_as_indexes_train=encoder.transform(val['dx']) \n",
    "val['label']=name_as_indexes_train\n"
   ]
  },
  {
   "cell_type": "code",
   "execution_count": 9,
   "metadata": {},
   "outputs": [],
   "source": [
    "encoder=LabelEncoder()\n",
    "encoder.fit(test['dx'])\n",
    "name_as_indexes_test=encoder.transform(test['dx']) \n",
    "test['label']=name_as_indexes_test\n"
   ]
  },
  {
   "cell_type": "code",
   "execution_count": 10,
   "metadata": {},
   "outputs": [],
   "source": [
    "from keras_preprocessing.image import ImageDataGenerator\n",
    "train_generator = ImageDataGenerator(rescale = 1./255,\n",
    "                                     rotation_range=10,  \n",
    "                                     zoom_range = 0.1, \n",
    "                                     width_shift_range=0.0,  height_shift_range=0.0) "
   ]
  },
  {
   "cell_type": "code",
   "execution_count": 11,
   "metadata": {},
   "outputs": [
    {
     "name": "stdout",
     "output_type": "stream",
     "text": [
      "Found 4482 validated image filenames belonging to 7 classes.\n"
     ]
    }
   ],
   "source": [
    "train_data= train_generator.flow_from_dataframe(dataframe=train,x_col=\"image_full_name\",y_col=\"dx\",\n",
    "                                                batch_size=64,directory=\"ISIC2018_Task3_Training_Input\",\n",
    "                                                shuffle=True,class_mode=\"categorical\",target_size=(256,256))"
   ]
  },
  {
   "cell_type": "code",
   "execution_count": 12,
   "metadata": {},
   "outputs": [],
   "source": [
    "\n",
    "test_generator=ImageDataGenerator(rescale = 1./255)"
   ]
  },
  {
   "cell_type": "code",
   "execution_count": 13,
   "metadata": {},
   "outputs": [
    {
     "name": "stdout",
     "output_type": "stream",
     "text": [
      "Found 1494 validated image filenames.\n"
     ]
    }
   ],
   "source": [
    "test_data= test_generator.flow_from_dataframe(dataframe=test,x_col=\"image_full_name\",y_col=\"dx\",\n",
    "                                              directory=\"ISIC2018_Task3_Training_Input\",\n",
    "                                              shuffle=False,batch_size=1,class_mode=None,target_size=(256,256))"
   ]
  },
  {
   "cell_type": "code",
   "execution_count": 14,
   "metadata": {},
   "outputs": [
    {
     "name": "stdout",
     "output_type": "stream",
     "text": [
      "Found 1494 validated image filenames belonging to 7 classes.\n"
     ]
    }
   ],
   "source": [
    "val_data=test_generator.flow_from_dataframe(dataframe=val,x_col=\"image_full_name\",y_col=\"dx\",\n",
    "                                            directory=\"ISIC2018_Task3_Training_Input\",\n",
    "                                            batch_size=64,shuffle=False,class_mode=\"categorical\",target_size=(256,256))"
   ]
  },
  {
   "cell_type": "code",
   "execution_count": 15,
   "metadata": {},
   "outputs": [],
   "source": [
    "from keras.callbacks import ReduceLROnPlateau, EarlyStopping, ModelCheckpoint\n",
    "\n",
    "learning_control = ReduceLROnPlateau(monitor='val_accuracy', patience=5, verbose=1, factor=.5, min_lr=0.00001)\n",
    "# early_stopping = EarlyStopping(monitor='val_accuracy', patience=15, verbose=1, restore_best_weights=True)\n",
    "model_checkpoint = ModelCheckpoint(filepath='InceptionV3.h5', monitor='val_accuracy', verbose=1, save_best_only=True)"
   ]
  },
  {
   "cell_type": "code",
   "execution_count": 16,
   "metadata": {},
   "outputs": [
    {
     "name": "stderr",
     "output_type": "stream",
     "text": [
      "C:\\Users\\gem_9\\AppData\\Local\\Temp\\ipykernel_24704\\1796597191.py:3: UserWarning: `Model.fit_generator` is deprecated and will be removed in a future version. Please use `Model.fit`, which supports generators.\n",
      "  history = model.fit_generator(generator=train_data,\n"
     ]
    },
    {
     "name": "stdout",
     "output_type": "stream",
     "text": [
      "Epoch 1/50\n",
      "70/70 [==============================] - ETA: 0s - loss: 1.5075 - accuracy: 0.6607 - precision: 0.7832 - recall: 0.5521 - f1_score: 0.1504\n",
      "Epoch 1: val_accuracy improved from -inf to 0.74457, saving model to InceptionV3.h5\n",
      "70/70 [==============================] - 78s 1s/step - loss: 1.5075 - accuracy: 0.6607 - precision: 0.7832 - recall: 0.5521 - f1_score: 0.1504 - val_loss: 0.9325 - val_accuracy: 0.7446 - val_precision: 0.8931 - val_recall: 0.6753 - val_f1_score: 0.1219 - lr: 0.0010\n",
      "Epoch 2/50\n",
      "70/70 [==============================] - ETA: 0s - loss: 1.0168 - accuracy: 0.7198 - precision: 0.8890 - recall: 0.6129 - f1_score: 0.1224\n",
      "Epoch 2: val_accuracy did not improve from 0.74457\n",
      "70/70 [==============================] - 70s 1s/step - loss: 1.0168 - accuracy: 0.7198 - precision: 0.8890 - recall: 0.6129 - f1_score: 0.1224 - val_loss: 0.8428 - val_accuracy: 0.7446 - val_precision: 0.9084 - val_recall: 0.6943 - val_f1_score: 0.1219 - lr: 0.0010\n",
      "Epoch 3/50\n",
      "70/70 [==============================] - ETA: 0s - loss: 0.9562 - accuracy: 0.7211 - precision: 0.8943 - recall: 0.6322 - f1_score: 0.1347\n",
      "Epoch 3: val_accuracy did not improve from 0.74457\n",
      "70/70 [==============================] - 70s 1s/step - loss: 0.9562 - accuracy: 0.7211 - precision: 0.8943 - recall: 0.6322 - f1_score: 0.1347 - val_loss: 0.9766 - val_accuracy: 0.7446 - val_precision: 0.8195 - val_recall: 0.7371 - val_f1_score: 0.1219 - lr: 0.0010\n",
      "Epoch 4/50\n",
      "70/70 [==============================] - ETA: 0s - loss: 0.9418 - accuracy: 0.7266 - precision: 0.8971 - recall: 0.6258 - f1_score: 0.1421\n",
      "Epoch 4: val_accuracy did not improve from 0.74457\n",
      "70/70 [==============================] - 71s 1s/step - loss: 0.9418 - accuracy: 0.7266 - precision: 0.8971 - recall: 0.6258 - f1_score: 0.1421 - val_loss: 0.8432 - val_accuracy: 0.7446 - val_precision: 0.8903 - val_recall: 0.6950 - val_f1_score: 0.1219 - lr: 0.0010\n",
      "Epoch 5/50\n",
      "70/70 [==============================] - ETA: 0s - loss: 0.8737 - accuracy: 0.7374 - precision: 0.9055 - recall: 0.6417 - f1_score: 0.1663\n",
      "Epoch 5: val_accuracy improved from 0.74457 to 0.76970, saving model to InceptionV3.h5\n",
      "70/70 [==============================] - 72s 1s/step - loss: 0.8737 - accuracy: 0.7374 - precision: 0.9055 - recall: 0.6417 - f1_score: 0.1663 - val_loss: 0.8023 - val_accuracy: 0.7697 - val_precision: 0.9087 - val_recall: 0.6760 - val_f1_score: 0.1818 - lr: 0.0010\n",
      "Epoch 6/50\n",
      "70/70 [==============================] - ETA: 0s - loss: 0.8582 - accuracy: 0.7390 - precision: 0.9099 - recall: 0.6401 - f1_score: 0.1749\n",
      "Epoch 6: val_accuracy did not improve from 0.76970\n",
      "70/70 [==============================] - 71s 1s/step - loss: 0.8582 - accuracy: 0.7390 - precision: 0.9099 - recall: 0.6401 - f1_score: 0.1749 - val_loss: 0.7924 - val_accuracy: 0.7656 - val_precision: 0.8718 - val_recall: 0.7160 - val_f1_score: 0.1701 - lr: 0.0010\n",
      "Epoch 7/50\n",
      "70/70 [==============================] - ETA: 0s - loss: 0.8305 - accuracy: 0.7472 - precision: 0.9089 - recall: 0.6503 - f1_score: 0.1815\n",
      "Epoch 7: val_accuracy did not improve from 0.76970\n",
      "70/70 [==============================] - 71s 1s/step - loss: 0.8305 - accuracy: 0.7472 - precision: 0.9089 - recall: 0.6503 - f1_score: 0.1815 - val_loss: 0.7868 - val_accuracy: 0.7588 - val_precision: 0.8899 - val_recall: 0.6861 - val_f1_score: 0.1686 - lr: 0.0010\n",
      "Epoch 8/50\n",
      "70/70 [==============================] - ETA: 0s - loss: 0.8062 - accuracy: 0.7449 - precision: 0.9163 - recall: 0.6469 - f1_score: 0.1881\n",
      "Epoch 8: val_accuracy did not improve from 0.76970\n",
      "70/70 [==============================] - 71s 1s/step - loss: 0.8062 - accuracy: 0.7449 - precision: 0.9163 - recall: 0.6469 - f1_score: 0.1881 - val_loss: 0.8191 - val_accuracy: 0.7554 - val_precision: 0.9470 - val_recall: 0.6073 - val_f1_score: 0.1876 - lr: 0.0010\n",
      "Epoch 9/50\n",
      "70/70 [==============================] - ETA: 0s - loss: 0.7930 - accuracy: 0.7467 - precision: 0.9227 - recall: 0.6480 - f1_score: 0.1879\n",
      "Epoch 9: val_accuracy did not improve from 0.76970\n",
      "70/70 [==============================] - 71s 1s/step - loss: 0.7930 - accuracy: 0.7467 - precision: 0.9227 - recall: 0.6480 - f1_score: 0.1879 - val_loss: 0.7574 - val_accuracy: 0.7683 - val_precision: 0.9067 - val_recall: 0.6868 - val_f1_score: 0.1834 - lr: 0.0010\n",
      "Epoch 10/50\n",
      "70/70 [==============================] - ETA: 0s - loss: 0.7745 - accuracy: 0.7549 - precision: 0.9216 - recall: 0.6546 - f1_score: 0.1908\n",
      "Epoch 10: ReduceLROnPlateau reducing learning rate to 0.0005000000237487257.\n",
      "\n",
      "Epoch 10: val_accuracy did not improve from 0.76970\n",
      "70/70 [==============================] - 71s 1s/step - loss: 0.7745 - accuracy: 0.7549 - precision: 0.9216 - recall: 0.6546 - f1_score: 0.1908 - val_loss: 0.7755 - val_accuracy: 0.7656 - val_precision: 0.9279 - val_recall: 0.6386 - val_f1_score: 0.1872 - lr: 0.0010\n",
      "Epoch 11/50\n",
      "70/70 [==============================] - ETA: 0s - loss: 0.7495 - accuracy: 0.7571 - precision: 0.9273 - recall: 0.6616 - f1_score: 0.1912\n",
      "Epoch 11: val_accuracy did not improve from 0.76970\n",
      "70/70 [==============================] - 70s 1s/step - loss: 0.7495 - accuracy: 0.7571 - precision: 0.9273 - recall: 0.6616 - f1_score: 0.1912 - val_loss: 0.7493 - val_accuracy: 0.7697 - val_precision: 0.9240 - val_recall: 0.6610 - val_f1_score: 0.1863 - lr: 5.0000e-04\n",
      "Epoch 12/50\n",
      "70/70 [==============================] - ETA: 0s - loss: 0.7240 - accuracy: 0.7592 - precision: 0.9270 - recall: 0.6690 - f1_score: 0.1922\n",
      "Epoch 12: val_accuracy did not improve from 0.76970\n",
      "70/70 [==============================] - 71s 1s/step - loss: 0.7240 - accuracy: 0.7592 - precision: 0.9270 - recall: 0.6690 - f1_score: 0.1922 - val_loss: 0.7366 - val_accuracy: 0.7683 - val_precision: 0.9148 - val_recall: 0.6780 - val_f1_score: 0.1851 - lr: 5.0000e-04\n",
      "Epoch 13/50\n",
      "70/70 [==============================] - ETA: 0s - loss: 0.7209 - accuracy: 0.7614 - precision: 0.9285 - recall: 0.6698 - f1_score: 0.1932\n",
      "Epoch 13: val_accuracy did not improve from 0.76970\n",
      "70/70 [==============================] - 70s 1s/step - loss: 0.7209 - accuracy: 0.7614 - precision: 0.9285 - recall: 0.6698 - f1_score: 0.1932 - val_loss: 0.7391 - val_accuracy: 0.7697 - val_precision: 0.9126 - val_recall: 0.6739 - val_f1_score: 0.1857 - lr: 5.0000e-04\n",
      "Epoch 14/50\n",
      "70/70 [==============================] - ETA: 0s - loss: 0.7313 - accuracy: 0.7598 - precision: 0.9257 - recall: 0.6657 - f1_score: 0.1918\n",
      "Epoch 14: val_accuracy did not improve from 0.76970\n",
      "70/70 [==============================] - 71s 1s/step - loss: 0.7313 - accuracy: 0.7598 - precision: 0.9257 - recall: 0.6657 - f1_score: 0.1918 - val_loss: 0.8020 - val_accuracy: 0.7493 - val_precision: 0.9498 - val_recall: 0.5917 - val_f1_score: 0.1899 - lr: 5.0000e-04\n",
      "Epoch 15/50\n",
      "70/70 [==============================] - ETA: 0s - loss: 0.7180 - accuracy: 0.7608 - precision: 0.9299 - recall: 0.6634 - f1_score: 0.2355\n",
      "Epoch 15: ReduceLROnPlateau reducing learning rate to 0.0002500000118743628.\n",
      "\n",
      "Epoch 15: val_accuracy did not improve from 0.76970\n",
      "70/70 [==============================] - 70s 1s/step - loss: 0.7180 - accuracy: 0.7608 - precision: 0.9299 - recall: 0.6634 - f1_score: 0.2355 - val_loss: 0.7276 - val_accuracy: 0.7690 - val_precision: 0.9139 - val_recall: 0.6705 - val_f1_score: 0.2427 - lr: 5.0000e-04\n",
      "Epoch 16/50\n",
      "70/70 [==============================] - ETA: 0s - loss: 0.6901 - accuracy: 0.7718 - precision: 0.9302 - recall: 0.6790 - f1_score: 0.2603\n",
      "Epoch 16: val_accuracy improved from 0.76970 to 0.77038, saving model to InceptionV3.h5\n",
      "70/70 [==============================] - 71s 1s/step - loss: 0.6901 - accuracy: 0.7718 - precision: 0.9302 - recall: 0.6790 - f1_score: 0.2603 - val_loss: 0.7246 - val_accuracy: 0.7704 - val_precision: 0.9135 - val_recall: 0.6671 - val_f1_score: 0.2578 - lr: 2.5000e-04\n",
      "Epoch 17/50\n",
      "70/70 [==============================] - ETA: 0s - loss: 0.6959 - accuracy: 0.7673 - precision: 0.9332 - recall: 0.6738 - f1_score: 0.2615\n",
      "Epoch 17: val_accuracy did not improve from 0.77038\n",
      "70/70 [==============================] - 71s 1s/step - loss: 0.6959 - accuracy: 0.7673 - precision: 0.9332 - recall: 0.6738 - f1_score: 0.2615 - val_loss: 0.7298 - val_accuracy: 0.7649 - val_precision: 0.9188 - val_recall: 0.6610 - val_f1_score: 0.2520 - lr: 2.5000e-04\n",
      "Epoch 18/50\n",
      "70/70 [==============================] - ETA: 0s - loss: 0.6816 - accuracy: 0.7687 - precision: 0.9342 - recall: 0.6752 - f1_score: 0.2715\n",
      "Epoch 18: val_accuracy did not improve from 0.77038\n",
      "70/70 [==============================] - 71s 1s/step - loss: 0.6816 - accuracy: 0.7687 - precision: 0.9342 - recall: 0.6752 - f1_score: 0.2715 - val_loss: 0.7240 - val_accuracy: 0.7636 - val_precision: 0.9235 - val_recall: 0.6562 - val_f1_score: 0.2467 - lr: 2.5000e-04\n",
      "Epoch 19/50\n",
      "70/70 [==============================] - ETA: 0s - loss: 0.6611 - accuracy: 0.7737 - precision: 0.9314 - recall: 0.6856 - f1_score: 0.2854\n",
      "Epoch 19: val_accuracy improved from 0.77038 to 0.77310, saving model to InceptionV3.h5\n",
      "70/70 [==============================] - 71s 1s/step - loss: 0.6611 - accuracy: 0.7737 - precision: 0.9314 - recall: 0.6856 - f1_score: 0.2854 - val_loss: 0.7085 - val_accuracy: 0.7731 - val_precision: 0.9074 - val_recall: 0.6787 - val_f1_score: 0.2606 - lr: 2.5000e-04\n",
      "Epoch 20/50\n",
      "70/70 [==============================] - ETA: 0s - loss: 0.6591 - accuracy: 0.7730 - precision: 0.9314 - recall: 0.6793 - f1_score: 0.2855\n",
      "Epoch 20: val_accuracy improved from 0.77310 to 0.77446, saving model to InceptionV3.h5\n",
      "70/70 [==============================] - 71s 1s/step - loss: 0.6591 - accuracy: 0.7730 - precision: 0.9314 - recall: 0.6793 - f1_score: 0.2855 - val_loss: 0.7136 - val_accuracy: 0.7745 - val_precision: 0.8876 - val_recall: 0.7133 - val_f1_score: 0.2626 - lr: 2.5000e-04\n",
      "Epoch 21/50\n",
      "70/70 [==============================] - ETA: 0s - loss: 0.6611 - accuracy: 0.7739 - precision: 0.9276 - recall: 0.6840 - f1_score: 0.2881\n",
      "Epoch 21: val_accuracy did not improve from 0.77446\n",
      "70/70 [==============================] - 70s 1s/step - loss: 0.6611 - accuracy: 0.7739 - precision: 0.9276 - recall: 0.6840 - f1_score: 0.2881 - val_loss: 0.7199 - val_accuracy: 0.7656 - val_precision: 0.9242 - val_recall: 0.6630 - val_f1_score: 0.2448 - lr: 2.5000e-04\n",
      "Epoch 22/50\n",
      "70/70 [==============================] - ETA: 0s - loss: 0.6527 - accuracy: 0.7725 - precision: 0.9320 - recall: 0.6827 - f1_score: 0.2962\n",
      "Epoch 22: val_accuracy did not improve from 0.77446\n",
      "70/70 [==============================] - 71s 1s/step - loss: 0.6527 - accuracy: 0.7725 - precision: 0.9320 - recall: 0.6827 - f1_score: 0.2962 - val_loss: 0.6954 - val_accuracy: 0.7745 - val_precision: 0.9022 - val_recall: 0.7018 - val_f1_score: 0.2644 - lr: 2.5000e-04\n",
      "Epoch 23/50\n",
      "70/70 [==============================] - ETA: 0s - loss: 0.6403 - accuracy: 0.7780 - precision: 0.9320 - recall: 0.6861 - f1_score: 0.3005\n",
      "Epoch 23: val_accuracy did not improve from 0.77446\n",
      "70/70 [==============================] - 70s 1s/step - loss: 0.6403 - accuracy: 0.7780 - precision: 0.9320 - recall: 0.6861 - f1_score: 0.3005 - val_loss: 0.7046 - val_accuracy: 0.7697 - val_precision: 0.9177 - val_recall: 0.6739 - val_f1_score: 0.2761 - lr: 2.5000e-04\n",
      "Epoch 24/50\n",
      "70/70 [==============================] - ETA: 0s - loss: 0.6327 - accuracy: 0.7793 - precision: 0.9348 - recall: 0.6876 - f1_score: 0.3043\n",
      "Epoch 24: val_accuracy did not improve from 0.77446\n",
      "70/70 [==============================] - 71s 1s/step - loss: 0.6327 - accuracy: 0.7793 - precision: 0.9348 - recall: 0.6876 - f1_score: 0.3043 - val_loss: 0.7155 - val_accuracy: 0.7711 - val_precision: 0.9066 - val_recall: 0.6861 - val_f1_score: 0.2650 - lr: 2.5000e-04\n",
      "Epoch 25/50\n",
      "70/70 [==============================] - ETA: 0s - loss: 0.6319 - accuracy: 0.7782 - precision: 0.9340 - recall: 0.6915 - f1_score: 0.3003\n",
      "Epoch 25: ReduceLROnPlateau reducing learning rate to 0.0001250000059371814.\n",
      "\n",
      "Epoch 25: val_accuracy did not improve from 0.77446\n",
      "70/70 [==============================] - 70s 1s/step - loss: 0.6319 - accuracy: 0.7782 - precision: 0.9340 - recall: 0.6915 - f1_score: 0.3003 - val_loss: 0.7145 - val_accuracy: 0.7588 - val_precision: 0.9273 - val_recall: 0.6495 - val_f1_score: 0.2631 - lr: 2.5000e-04\n",
      "Epoch 26/50\n",
      "70/70 [==============================] - ETA: 0s - loss: 0.6151 - accuracy: 0.7823 - precision: 0.9390 - recall: 0.6928 - f1_score: 0.3029\n",
      "Epoch 26: val_accuracy did not improve from 0.77446\n",
      "70/70 [==============================] - 71s 1s/step - loss: 0.6151 - accuracy: 0.7823 - precision: 0.9390 - recall: 0.6928 - f1_score: 0.3029 - val_loss: 0.6943 - val_accuracy: 0.7724 - val_precision: 0.9151 - val_recall: 0.6807 - val_f1_score: 0.2769 - lr: 1.2500e-04\n",
      "Epoch 27/50\n",
      "70/70 [==============================] - ETA: 0s - loss: 0.6348 - accuracy: 0.7764 - precision: 0.9324 - recall: 0.6842 - f1_score: 0.3062\n",
      "Epoch 27: val_accuracy did not improve from 0.77446\n",
      "70/70 [==============================] - 70s 1s/step - loss: 0.6348 - accuracy: 0.7764 - precision: 0.9324 - recall: 0.6842 - f1_score: 0.3062 - val_loss: 0.6939 - val_accuracy: 0.7745 - val_precision: 0.9071 - val_recall: 0.6895 - val_f1_score: 0.2835 - lr: 1.2500e-04\n",
      "Epoch 28/50\n",
      "70/70 [==============================] - ETA: 0s - loss: 0.6135 - accuracy: 0.7809 - precision: 0.9311 - recall: 0.6944 - f1_score: 0.3153\n",
      "Epoch 28: val_accuracy did not improve from 0.77446\n",
      "70/70 [==============================] - 70s 1s/step - loss: 0.6135 - accuracy: 0.7809 - precision: 0.9311 - recall: 0.6944 - f1_score: 0.3153 - val_loss: 0.6977 - val_accuracy: 0.7677 - val_precision: 0.9154 - val_recall: 0.6766 - val_f1_score: 0.2756 - lr: 1.2500e-04\n",
      "Epoch 29/50\n",
      "70/70 [==============================] - ETA: 0s - loss: 0.6228 - accuracy: 0.7825 - precision: 0.9371 - recall: 0.6915 - f1_score: 0.3138\n",
      "Epoch 29: val_accuracy did not improve from 0.77446\n",
      "70/70 [==============================] - 70s 1s/step - loss: 0.6228 - accuracy: 0.7825 - precision: 0.9371 - recall: 0.6915 - f1_score: 0.3138 - val_loss: 0.6982 - val_accuracy: 0.7697 - val_precision: 0.9149 - val_recall: 0.6793 - val_f1_score: 0.2899 - lr: 1.2500e-04\n",
      "Epoch 30/50\n",
      "70/70 [==============================] - ETA: 0s - loss: 0.6006 - accuracy: 0.7854 - precision: 0.9284 - recall: 0.6990 - f1_score: 0.3091\n",
      "Epoch 30: ReduceLROnPlateau reducing learning rate to 6.25000029685907e-05.\n",
      "\n",
      "Epoch 30: val_accuracy did not improve from 0.77446\n",
      "70/70 [==============================] - 71s 1s/step - loss: 0.6006 - accuracy: 0.7854 - precision: 0.9284 - recall: 0.6990 - f1_score: 0.3091 - val_loss: 0.6940 - val_accuracy: 0.7704 - val_precision: 0.9032 - val_recall: 0.6848 - val_f1_score: 0.2679 - lr: 1.2500e-04\n",
      "Epoch 31/50\n",
      "70/70 [==============================] - ETA: 0s - loss: 0.5958 - accuracy: 0.7895 - precision: 0.9369 - recall: 0.6990 - f1_score: 0.3176\n",
      "Epoch 31: val_accuracy did not improve from 0.77446\n",
      "70/70 [==============================] - 71s 1s/step - loss: 0.5958 - accuracy: 0.7895 - precision: 0.9369 - recall: 0.6990 - f1_score: 0.3176 - val_loss: 0.7002 - val_accuracy: 0.7602 - val_precision: 0.9129 - val_recall: 0.6692 - val_f1_score: 0.2627 - lr: 6.2500e-05\n",
      "Epoch 32/50\n",
      "70/70 [==============================] - ETA: 0s - loss: 0.6040 - accuracy: 0.7890 - precision: 0.9347 - recall: 0.6994 - f1_score: 0.3283\n",
      "Epoch 32: val_accuracy did not improve from 0.77446\n",
      "70/70 [==============================] - 72s 1s/step - loss: 0.6040 - accuracy: 0.7890 - precision: 0.9347 - recall: 0.6994 - f1_score: 0.3283 - val_loss: 0.6909 - val_accuracy: 0.7683 - val_precision: 0.9050 - val_recall: 0.6861 - val_f1_score: 0.2793 - lr: 6.2500e-05\n",
      "Epoch 33/50\n",
      "70/70 [==============================] - ETA: 0s - loss: 0.5945 - accuracy: 0.7843 - precision: 0.9386 - recall: 0.6949 - f1_score: 0.3243\n",
      "Epoch 33: val_accuracy did not improve from 0.77446\n",
      "70/70 [==============================] - 70s 1s/step - loss: 0.5945 - accuracy: 0.7843 - precision: 0.9386 - recall: 0.6949 - f1_score: 0.3243 - val_loss: 0.6932 - val_accuracy: 0.7738 - val_precision: 0.8936 - val_recall: 0.7018 - val_f1_score: 0.2818 - lr: 6.2500e-05\n",
      "Epoch 34/50\n",
      "70/70 [==============================] - ETA: 0s - loss: 0.5870 - accuracy: 0.7868 - precision: 0.9419 - recall: 0.7042 - f1_score: 0.3194\n",
      "Epoch 34: val_accuracy did not improve from 0.77446\n",
      "70/70 [==============================] - 70s 1s/step - loss: 0.5870 - accuracy: 0.7868 - precision: 0.9419 - recall: 0.7042 - f1_score: 0.3194 - val_loss: 0.6965 - val_accuracy: 0.7670 - val_precision: 0.9114 - val_recall: 0.6848 - val_f1_score: 0.2896 - lr: 6.2500e-05\n",
      "Epoch 35/50\n",
      "70/70 [==============================] - ETA: 0s - loss: 0.5806 - accuracy: 0.7906 - precision: 0.9366 - recall: 0.7051 - f1_score: 0.3268\n",
      "Epoch 35: ReduceLROnPlateau reducing learning rate to 3.125000148429535e-05.\n",
      "\n",
      "Epoch 35: val_accuracy did not improve from 0.77446\n",
      "70/70 [==============================] - 70s 999ms/step - loss: 0.5806 - accuracy: 0.7906 - precision: 0.9366 - recall: 0.7051 - f1_score: 0.3268 - val_loss: 0.6928 - val_accuracy: 0.7677 - val_precision: 0.9034 - val_recall: 0.6923 - val_f1_score: 0.2849 - lr: 6.2500e-05\n",
      "Epoch 36/50\n",
      "70/70 [==============================] - ETA: 0s - loss: 0.5914 - accuracy: 0.7863 - precision: 0.9354 - recall: 0.7042 - f1_score: 0.3275\n",
      "Epoch 36: val_accuracy did not improve from 0.77446\n",
      "70/70 [==============================] - 70s 1s/step - loss: 0.5914 - accuracy: 0.7863 - precision: 0.9354 - recall: 0.7042 - f1_score: 0.3275 - val_loss: 0.6940 - val_accuracy: 0.7683 - val_precision: 0.9009 - val_recall: 0.6977 - val_f1_score: 0.2872 - lr: 3.1250e-05\n",
      "Epoch 37/50\n",
      "70/70 [==============================] - ETA: 0s - loss: 0.5873 - accuracy: 0.7927 - precision: 0.9382 - recall: 0.7010 - f1_score: 0.3337\n",
      "Epoch 37: val_accuracy did not improve from 0.77446\n",
      "70/70 [==============================] - 70s 999ms/step - loss: 0.5873 - accuracy: 0.7927 - precision: 0.9382 - recall: 0.7010 - f1_score: 0.3337 - val_loss: 0.6998 - val_accuracy: 0.7622 - val_precision: 0.9197 - val_recall: 0.6766 - val_f1_score: 0.2835 - lr: 3.1250e-05\n",
      "Epoch 38/50\n",
      "70/70 [==============================] - ETA: 0s - loss: 0.5896 - accuracy: 0.7886 - precision: 0.9395 - recall: 0.7060 - f1_score: 0.3243\n",
      "Epoch 38: val_accuracy did not improve from 0.77446\n",
      "70/70 [==============================] - 70s 1s/step - loss: 0.5896 - accuracy: 0.7886 - precision: 0.9395 - recall: 0.7060 - f1_score: 0.3243 - val_loss: 0.6935 - val_accuracy: 0.7663 - val_precision: 0.9084 - val_recall: 0.6875 - val_f1_score: 0.2834 - lr: 3.1250e-05\n",
      "Epoch 39/50\n",
      "69/70 [============================>.] - ETA: 0s - loss: 0.5932 - accuracy: 0.7880 - precision: 0.9358 - recall: 0.7000 - f1_score: 0.3303\n",
      "Epoch 39: val_accuracy did not improve from 0.77446\n",
      "70/70 [==============================] - 70s 999ms/step - loss: 0.5932 - accuracy: 0.7881 - precision: 0.9358 - recall: 0.6999 - f1_score: 0.3304 - val_loss: 0.6904 - val_accuracy: 0.7656 - val_precision: 0.9079 - val_recall: 0.6895 - val_f1_score: 0.2792 - lr: 3.1250e-05\n",
      "Epoch 40/50\n",
      "70/70 [==============================] - ETA: 0s - loss: 0.5762 - accuracy: 0.7938 - precision: 0.9355 - recall: 0.7121 - f1_score: 0.3264\n",
      "Epoch 40: ReduceLROnPlateau reducing learning rate to 1.5625000742147677e-05.\n",
      "\n",
      "Epoch 40: val_accuracy did not improve from 0.77446\n",
      "70/70 [==============================] - 70s 1s/step - loss: 0.5762 - accuracy: 0.7938 - precision: 0.9355 - recall: 0.7121 - f1_score: 0.3264 - val_loss: 0.6888 - val_accuracy: 0.7663 - val_precision: 0.9043 - val_recall: 0.6936 - val_f1_score: 0.2847 - lr: 3.1250e-05\n",
      "Epoch 41/50\n",
      "70/70 [==============================] - ETA: 0s - loss: 0.5690 - accuracy: 0.7918 - precision: 0.9358 - recall: 0.7123 - f1_score: 0.3308\n",
      "Epoch 41: val_accuracy did not improve from 0.77446\n",
      "70/70 [==============================] - 70s 1000ms/step - loss: 0.5690 - accuracy: 0.7918 - precision: 0.9358 - recall: 0.7123 - f1_score: 0.3308 - val_loss: 0.6886 - val_accuracy: 0.7663 - val_precision: 0.9005 - val_recall: 0.6950 - val_f1_score: 0.2848 - lr: 1.5625e-05\n",
      "Epoch 42/50\n",
      "70/70 [==============================] - ETA: 0s - loss: 0.5810 - accuracy: 0.7900 - precision: 0.9348 - recall: 0.7078 - f1_score: 0.3245\n",
      "Epoch 42: val_accuracy did not improve from 0.77446\n",
      "70/70 [==============================] - 70s 1s/step - loss: 0.5810 - accuracy: 0.7900 - precision: 0.9348 - recall: 0.7078 - f1_score: 0.3245 - val_loss: 0.6910 - val_accuracy: 0.7649 - val_precision: 0.9062 - val_recall: 0.6895 - val_f1_score: 0.2731 - lr: 1.5625e-05\n",
      "Epoch 43/50\n",
      "70/70 [==============================] - ETA: 0s - loss: 0.5894 - accuracy: 0.7913 - precision: 0.9374 - recall: 0.7053 - f1_score: 0.3297\n",
      "Epoch 43: val_accuracy did not improve from 0.77446\n",
      "70/70 [==============================] - 70s 1s/step - loss: 0.5894 - accuracy: 0.7913 - precision: 0.9374 - recall: 0.7053 - f1_score: 0.3297 - val_loss: 0.6881 - val_accuracy: 0.7663 - val_precision: 0.9043 - val_recall: 0.6936 - val_f1_score: 0.2848 - lr: 1.5625e-05\n",
      "Epoch 44/50\n",
      "70/70 [==============================] - ETA: 0s - loss: 0.5723 - accuracy: 0.7936 - precision: 0.9334 - recall: 0.7100 - f1_score: 0.3345\n",
      "Epoch 44: val_accuracy did not improve from 0.77446\n",
      "70/70 [==============================] - 70s 1s/step - loss: 0.5723 - accuracy: 0.7936 - precision: 0.9334 - recall: 0.7100 - f1_score: 0.3345 - val_loss: 0.6913 - val_accuracy: 0.7663 - val_precision: 0.9023 - val_recall: 0.6963 - val_f1_score: 0.2810 - lr: 1.5625e-05\n",
      "Epoch 45/50\n",
      "70/70 [==============================] - ETA: 0s - loss: 0.5794 - accuracy: 0.7852 - precision: 0.9336 - recall: 0.7067 - f1_score: 0.3269\n",
      "Epoch 45: ReduceLROnPlateau reducing learning rate to 1e-05.\n",
      "\n",
      "Epoch 45: val_accuracy did not improve from 0.77446\n",
      "70/70 [==============================] - 71s 1s/step - loss: 0.5794 - accuracy: 0.7852 - precision: 0.9336 - recall: 0.7067 - f1_score: 0.3269 - val_loss: 0.6868 - val_accuracy: 0.7663 - val_precision: 0.9051 - val_recall: 0.6936 - val_f1_score: 0.2848 - lr: 1.5625e-05\n",
      "Epoch 46/50\n",
      "70/70 [==============================] - ETA: 0s - loss: 0.5732 - accuracy: 0.7911 - precision: 0.9389 - recall: 0.7096 - f1_score: 0.3335\n",
      "Epoch 46: val_accuracy did not improve from 0.77446\n",
      "70/70 [==============================] - 70s 1s/step - loss: 0.5732 - accuracy: 0.7911 - precision: 0.9389 - recall: 0.7096 - f1_score: 0.3335 - val_loss: 0.6876 - val_accuracy: 0.7663 - val_precision: 0.9080 - val_recall: 0.6902 - val_f1_score: 0.2866 - lr: 1.0000e-05\n",
      "Epoch 47/50\n",
      "70/70 [==============================] - ETA: 0s - loss: 0.5796 - accuracy: 0.7904 - precision: 0.9343 - recall: 0.7048 - f1_score: 0.3298\n",
      "Epoch 47: val_accuracy did not improve from 0.77446\n",
      "70/70 [==============================] - 70s 1s/step - loss: 0.5796 - accuracy: 0.7904 - precision: 0.9343 - recall: 0.7048 - f1_score: 0.3298 - val_loss: 0.6872 - val_accuracy: 0.7683 - val_precision: 0.9046 - val_recall: 0.6957 - val_f1_score: 0.2878 - lr: 1.0000e-05\n",
      "Epoch 48/50\n",
      "70/70 [==============================] - ETA: 0s - loss: 0.5735 - accuracy: 0.7929 - precision: 0.9398 - recall: 0.7100 - f1_score: 0.3356\n",
      "Epoch 48: val_accuracy did not improve from 0.77446\n",
      "70/70 [==============================] - 71s 1s/step - loss: 0.5735 - accuracy: 0.7929 - precision: 0.9398 - recall: 0.7100 - f1_score: 0.3356 - val_loss: 0.6883 - val_accuracy: 0.7677 - val_precision: 0.9033 - val_recall: 0.6977 - val_f1_score: 0.2806 - lr: 1.0000e-05\n",
      "Epoch 49/50\n",
      "70/70 [==============================] - ETA: 0s - loss: 0.5701 - accuracy: 0.7924 - precision: 0.9320 - recall: 0.7134 - f1_score: 0.3268\n",
      "Epoch 49: val_accuracy did not improve from 0.77446\n",
      "70/70 [==============================] - 70s 1000ms/step - loss: 0.5701 - accuracy: 0.7924 - precision: 0.9320 - recall: 0.7134 - f1_score: 0.3268 - val_loss: 0.6872 - val_accuracy: 0.7711 - val_precision: 0.8996 - val_recall: 0.6997 - val_f1_score: 0.2905 - lr: 1.0000e-05\n",
      "Epoch 50/50\n",
      "70/70 [==============================] - ETA: 0s - loss: 0.5677 - accuracy: 0.7913 - precision: 0.9388 - recall: 0.7121 - f1_score: 0.3320\n",
      "Epoch 50: val_accuracy did not improve from 0.77446\n",
      "70/70 [==============================] - 70s 1s/step - loss: 0.5677 - accuracy: 0.7913 - precision: 0.9388 - recall: 0.7121 - f1_score: 0.3320 - val_loss: 0.6879 - val_accuracy: 0.7677 - val_precision: 0.9039 - val_recall: 0.6963 - val_f1_score: 0.2855 - lr: 1.0000e-05\n"
     ]
    }
   ],
   "source": [
    "model.compile(optimizer=optimizers.Adam(learning_rate=0.001),\n",
    "              loss=\"categorical_crossentropy\", metrics=[\"accuracy\", tf.keras.metrics.Precision(), tf.keras.metrics.Recall(), tfa.metrics.F1Score(num_classes=7, average='macro')])\n",
    "history = model.fit_generator(generator=train_data,\n",
    "                    steps_per_epoch=train_data.samples//train_data.batch_size,\n",
    "                    validation_data=val_data,\n",
    "                    verbose=1,\n",
    "                    validation_steps=val_data.samples//val_data.batch_size,\n",
    "                    epochs=50, callbacks=[learning_control, model_checkpoint])"
   ]
  },
  {
   "cell_type": "code",
   "execution_count": 17,
   "metadata": {},
   "outputs": [
    {
     "data": {
      "image/png": "[encoded data removed]",
      "text/plain": [
       "<Figure size 1500x500 with 2 Axes>"
      ]
     },
     "metadata": {},
     "output_type": "display_data"
    }
   ],
   "source": [
    "# Función para graficar la historia\n",
    "import numpy as np\n",
    "import matplotlib.pyplot as plt\n",
    "EPOCAS = 50\n",
    "\n",
    "def graficar(h):\n",
    "    LOSS = 0\n",
    "    ACCURACY = 1\n",
    "    entrenamiento = np.zeros((2, EPOCAS))\n",
    "    prueba = np.zeros((2, EPOCAS))\n",
    "    entrenamiento[LOSS] = h.history['loss']  # loss de entrenamiento\n",
    "    prueba[LOSS] = h.history['val_loss']    # loss de validación\n",
    "    entrenamiento[ACCURACY] = h.history['accuracy']  # acc de entrenamiento\n",
    "    prueba[ACCURACY] = h.history['val_accuracy']  # acc de validación\n",
    "    epocas = range(1, EPOCAS+1)\n",
    "    fig, axs = plt.subplots(1, 2, figsize=(15, 5))\n",
    "    for i, label in zip((LOSS, ACCURACY), ('Loss', 'Accuracy')):\n",
    "        axs[i].plot(epocas, entrenamiento[i], 'b-', label='Training '+label)\n",
    "        axs[i].plot(epocas, prueba[i], 'y-', label='Validationg '+label)\n",
    "        axs[i].set_title('Training & Validation ' + label)\n",
    "        axs[i].set_xlabel('Epochs')\n",
    "        axs[i].set_ylabel(label)\n",
    "        axs[i].legend()\n",
    "    plt.show()\n",
    "\n",
    "graficar(history)"
   ]
  },
  {
   "cell_type": "code",
   "execution_count": 18,
   "metadata": {},
   "outputs": [
    {
     "name": "stderr",
     "output_type": "stream",
     "text": [
      "C:\\Users\\gem_9\\AppData\\Local\\Temp\\ipykernel_24704\\1044357436.py:2: UserWarning: `Model.predict_generator` is deprecated and will be removed in a future version. Please use `Model.predict`, which supports generators.\n",
      "  predictions = model.predict_generator(test_data, steps=test_data.samples/test_data.batch_size,verbose=1)\n"
     ]
    },
    {
     "name": "stdout",
     "output_type": "stream",
     "text": [
      "1494/1494 [==============================] - 23s 15ms/step\n"
     ]
    }
   ],
   "source": [
    "test_data.reset()\n",
    "predictions = model.predict_generator(test_data, steps=test_data.samples/test_data.batch_size,verbose=1)\n",
    "y_pred= np.argmax(predictions, axis=1)"
   ]
  },
  {
   "cell_type": "code",
   "execution_count": 19,
   "metadata": {},
   "outputs": [
    {
     "name": "stdout",
     "output_type": "stream",
     "text": [
      "[[  0   0  40   0   0   7   0]\n",
      " [  0   0  58   0   0  26   0]\n",
      " [  0   0 117   0   3  34   1]\n",
      " [  0   0  10   0   0   8   0]\n",
      " [  0   0  49   0   3  66   2]\n",
      " [  0   0  54   0   5 986   2]\n",
      " [  0   0   5   0   0  10   8]]\n"
     ]
    }
   ],
   "source": [
    "from sklearn.metrics import confusion_matrix, classification_report\n",
    "cm= confusion_matrix(name_as_indexes_test,y_pred)\n",
    "print(cm)"
   ]
  },
  {
   "cell_type": "code",
   "execution_count": 20,
   "metadata": {},
   "outputs": [
    {
     "name": "stdout",
     "output_type": "stream",
     "text": [
      "              precision    recall  f1-score   support\n",
      "\n",
      "           0       0.00      0.00      0.00        47\n",
      "           1       0.00      0.00      0.00        84\n",
      "           2       0.35      0.75      0.48       155\n",
      "           3       0.00      0.00      0.00        18\n",
      "           4       0.27      0.03      0.05       120\n",
      "           5       0.87      0.94      0.90      1047\n",
      "           6       0.62      0.35      0.44        23\n",
      "\n",
      "    accuracy                           0.75      1494\n",
      "   macro avg       0.30      0.30      0.27      1494\n",
      "weighted avg       0.68      0.75      0.69      1494\n",
      "\n"
     ]
    },
    {
     "name": "stderr",
     "output_type": "stream",
     "text": [
      "c:\\Users\\gem_9\\miniconda3\\envs\\dcp\\lib\\site-packages\\sklearn\\metrics\\_classification.py:1344: UndefinedMetricWarning: Precision and F-score are ill-defined and being set to 0.0 in labels with no predicted samples. Use `zero_division` parameter to control this behavior.\n",
      "  _warn_prf(average, modifier, msg_start, len(result))\n",
      "c:\\Users\\gem_9\\miniconda3\\envs\\dcp\\lib\\site-packages\\sklearn\\metrics\\_classification.py:1344: UndefinedMetricWarning: Precision and F-score are ill-defined and being set to 0.0 in labels with no predicted samples. Use `zero_division` parameter to control this behavior.\n",
      "  _warn_prf(average, modifier, msg_start, len(result))\n",
      "c:\\Users\\gem_9\\miniconda3\\envs\\dcp\\lib\\site-packages\\sklearn\\metrics\\_classification.py:1344: UndefinedMetricWarning: Precision and F-score are ill-defined and being set to 0.0 in labels with no predicted samples. Use `zero_division` parameter to control this behavior.\n",
      "  _warn_prf(average, modifier, msg_start, len(result))\n"
     ]
    }
   ],
   "source": [
    "print(classification_report(name_as_indexes_test,y_pred))"
   ]
  }
 ],
 "metadata": {
  "kernelspec": {
   "display_name": "Python 3",
   "language": "python",
   "name": "python3"
  },
  "language_info": {
   "codemirror_mode": {
    "name": "ipython",
    "version": 3
   },
   "file_extension": ".py",
   "mimetype": "text/x-python",
   "name": "python",
   "nbconvert_exporter": "python",
   "pygments_lexer": "ipython3",
   "version": "3.10.11"
  }
 },
 "nbformat": 4,
 "nbformat_minor": 1
}
